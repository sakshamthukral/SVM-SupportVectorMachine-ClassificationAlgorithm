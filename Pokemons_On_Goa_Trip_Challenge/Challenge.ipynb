{
 "cells": [
  {
   "cell_type": "code",
   "execution_count": 38,
   "metadata": {},
   "outputs": [],
   "source": [
    "import numpy as np\n",
    "import matplotlib.pyplot as plt\n",
    "import os\n",
    "from pathlib import Path\n",
    "import cv2\n",
    "import glob\n",
    "import pandas as pd\n",
    "from keras.preprocessing import image\n",
    "from csv import reader\n",
    "from csv import writer\n",
    "import csv"
   ]
  },
  {
   "cell_type": "markdown",
   "metadata": {},
   "source": [
    "### DataPreprocessing and Pipelining"
   ]
  },
  {
   "cell_type": "code",
   "execution_count": 2,
   "metadata": {},
   "outputs": [],
   "source": [
    "train_data = pd.read_csv('C:/Users/hp/Pokemons_On_Goa_Trip_Challenge/PokemonsOnGoaTrip_Dataset/train.csv').values\n",
    "test_data = pd.read_csv('C:/Users/hp/Pokemons_On_Goa_Trip_Challenge/PokemonsOnGoaTrip_Test/test.csv').values"
   ]
  },
  {
   "cell_type": "code",
   "execution_count": 3,
   "metadata": {},
   "outputs": [],
   "source": [
    "# getting labels\n",
    "img_id = train_data[:,0]\n",
    "labels = train_data[:,1]\n",
    "test_id = test_data[:,0]"
   ]
  },
  {
   "cell_type": "code",
   "execution_count": 4,
   "metadata": {},
   "outputs": [
    {
     "name": "stdout",
     "output_type": "stream",
     "text": [
      "['Pikachu' 'Pikachu' 'Pikachu' 'Pikachu' 'Pikachu' 'Pikachu' 'Pikachu'\n",
      " 'Pikachu' 'Pikachu' 'Pikachu' 'Pikachu' 'Pikachu' 'Pikachu' 'Pikachu'\n",
      " 'Pikachu' 'Pikachu' 'Pikachu' 'Pikachu' 'Pikachu' 'Pikachu' 'Pikachu'\n",
      " 'Pikachu' 'Pikachu' 'Pikachu' 'Pikachu' 'Pikachu' 'Pikachu' 'Pikachu'\n",
      " 'Pikachu' 'Pikachu' 'Pikachu' 'Pikachu' 'Pikachu' 'Pikachu' 'Pikachu'\n",
      " 'Pikachu' 'Pikachu' 'Pikachu' 'Pikachu' 'Pikachu' 'Pikachu' 'Pikachu'\n",
      " 'Pikachu' 'Pikachu' 'Pikachu' 'Pikachu' 'Pikachu' 'Pikachu' 'Pikachu'\n",
      " 'Pikachu' 'Pikachu' 'Pikachu' 'Pikachu' 'Pikachu' 'Pikachu' 'Pikachu'\n",
      " 'Pikachu' 'Pikachu' 'Pikachu' 'Pikachu' 'Pikachu' 'Pikachu' 'Pikachu'\n",
      " 'Pikachu' 'Pikachu' 'Pikachu' 'Pikachu' 'Pikachu' 'Pikachu' 'Pikachu'\n",
      " 'Pikachu' 'Pikachu' 'Pikachu' 'Pikachu' 'Pikachu' 'Pikachu' 'Pikachu'\n",
      " 'Pikachu' 'Pikachu' 'Pikachu' 'Pikachu' 'Pikachu' 'Pikachu' 'Pikachu'\n",
      " 'Pikachu' 'Pikachu' 'Pikachu' 'Pikachu' 'Pikachu' 'Pikachu' 'Pikachu'\n",
      " 'Pikachu' 'Pikachu' 'Pikachu' 'Pikachu' 'Pikachu' 'Pikachu' 'Pikachu'\n",
      " 'Pikachu' 'Pikachu' 'Pikachu' 'Bulbasaur' 'Bulbasaur' 'Bulbasaur'\n",
      " 'Bulbasaur' 'Bulbasaur' 'Bulbasaur' 'Bulbasaur' 'Bulbasaur' 'Bulbasaur'\n",
      " 'Bulbasaur' 'Bulbasaur' 'Bulbasaur' 'Bulbasaur' 'Bulbasaur' 'Bulbasaur'\n",
      " 'Bulbasaur' 'Bulbasaur' 'Bulbasaur' 'Bulbasaur' 'Bulbasaur' 'Bulbasaur'\n",
      " 'Bulbasaur' 'Bulbasaur' 'Bulbasaur' 'Bulbasaur' 'Bulbasaur' 'Bulbasaur'\n",
      " 'Bulbasaur' 'Bulbasaur' 'Bulbasaur' 'Bulbasaur' 'Bulbasaur' 'Bulbasaur'\n",
      " 'Bulbasaur' 'Bulbasaur' 'Bulbasaur' 'Bulbasaur' 'Bulbasaur' 'Bulbasaur'\n",
      " 'Bulbasaur' 'Bulbasaur' 'Bulbasaur' 'Bulbasaur' 'Bulbasaur' 'Bulbasaur'\n",
      " 'Bulbasaur' 'Bulbasaur' 'Bulbasaur' 'Bulbasaur' 'Bulbasaur' 'Bulbasaur'\n",
      " 'Bulbasaur' 'Bulbasaur' 'Bulbasaur' 'Bulbasaur' 'Bulbasaur' 'Bulbasaur'\n",
      " 'Bulbasaur' 'Bulbasaur' 'Bulbasaur' 'Bulbasaur' 'Bulbasaur' 'Bulbasaur'\n",
      " 'Bulbasaur' 'Bulbasaur' 'Bulbasaur' 'Bulbasaur' 'Bulbasaur' 'Bulbasaur'\n",
      " 'Bulbasaur' 'Bulbasaur' 'Bulbasaur' 'Bulbasaur' 'Bulbasaur' 'Bulbasaur'\n",
      " 'Bulbasaur' 'Bulbasaur' 'Bulbasaur' 'Bulbasaur' 'Bulbasaur' 'Bulbasaur'\n",
      " 'Bulbasaur' 'Bulbasaur' 'Bulbasaur' 'Bulbasaur' 'Bulbasaur' 'Bulbasaur'\n",
      " 'Bulbasaur' 'Bulbasaur' 'Bulbasaur' 'Bulbasaur' 'Bulbasaur' 'Bulbasaur'\n",
      " 'Bulbasaur' 'Bulbasaur' 'Bulbasaur' 'Bulbasaur' 'Bulbasaur' 'Bulbasaur'\n",
      " 'Bulbasaur' 'Bulbasaur' 'Charmander' 'Charmander' 'Charmander'\n",
      " 'Charmander' 'Charmander' 'Charmander' 'Charmander' 'Charmander'\n",
      " 'Charmander' 'Charmander' 'Charmander' 'Charmander' 'Charmander'\n",
      " 'Charmander' 'Charmander' 'Charmander' 'Charmander' 'Charmander'\n",
      " 'Charmander' 'Charmander' 'Charmander' 'Charmander' 'Charmander'\n",
      " 'Charmander' 'Charmander' 'Charmander' 'Charmander' 'Charmander'\n",
      " 'Charmander' 'Charmander' 'Charmander' 'Charmander' 'Charmander'\n",
      " 'Charmander' 'Charmander' 'Charmander' 'Charmander' 'Charmander'\n",
      " 'Charmander' 'Charmander' 'Charmander' 'Charmander' 'Charmander'\n",
      " 'Charmander' 'Charmander' 'Charmander' 'Charmander' 'Charmander'\n",
      " 'Charmander' 'Charmander' 'Charmander' 'Charmander' 'Charmander'\n",
      " 'Charmander' 'Charmander' 'Charmander' 'Charmander' 'Charmander'\n",
      " 'Charmander' 'Charmander' 'Charmander' 'Charmander' 'Charmander'\n",
      " 'Charmander' 'Charmander' 'Charmander' 'Charmander' 'Charmander'\n",
      " 'Charmander' 'Charmander' 'Charmander' 'Charmander' 'Charmander'\n",
      " 'Charmander' 'Charmander' 'Charmander' 'Charmander' 'Charmander'\n",
      " 'Charmander' 'Charmander' 'Charmander' 'Charmander' 'Charmander'\n",
      " 'Charmander' 'Charmander' 'Charmander' 'Charmander' 'Charmander'\n",
      " 'Charmander' 'Charmander' 'Charmander' 'Charmander' 'Charmander'\n",
      " 'Charmander' 'Charmander' 'Charmander' 'Charmander' 'Charmander'\n",
      " 'Charmander' 'Charmander' 'Charmander' 'Charmander']\n"
     ]
    }
   ],
   "source": [
    "#print(type(labels))\n",
    "#print(len(labels))\n",
    "print(labels)"
   ]
  },
  {
   "cell_type": "code",
   "execution_count": 5,
   "metadata": {},
   "outputs": [
    {
     "name": "stdout",
     "output_type": "stream",
     "text": [
      "[0 0 0 0 0 0 0 0 0 0 0 0 0 0 0 0 0 0 0 0 0 0 0 0 0 0 0 0 0 0 0 0 0 0 0 0 0\n",
      " 0 0 0 0 0 0 0 0 0 0 0 0 0 0 0 0 0 0 0 0 0 0 0 0 0 0 0 0 0 0 0 0 0 0 0 0 0\n",
      " 0 0 0 0 0 0 0 0 0 0 0 0 0 0 0 0 0 0 0 0 0 0 0 0 0 0 0 1 1 1 1 1 1 1 1 1 1\n",
      " 1 1 1 1 1 1 1 1 1 1 1 1 1 1 1 1 1 1 1 1 1 1 1 1 1 1 1 1 1 1 1 1 1 1 1 1 1\n",
      " 1 1 1 1 1 1 1 1 1 1 1 1 1 1 1 1 1 1 1 1 1 1 1 1 1 1 1 1 1 1 1 1 1 1 1 1 1\n",
      " 1 1 1 1 1 1 1 1 1 1 1 1 1 1 1 1 1 2 2 2 2 2 2 2 2 2 2 2 2 2 2 2 2 2 2 2 2\n",
      " 2 2 2 2 2 2 2 2 2 2 2 2 2 2 2 2 2 2 2 2 2 2 2 2 2 2 2 2 2 2 2 2 2 2 2 2 2\n",
      " 2 2 2 2 2 2 2 2 2 2 2 2 2 2 2 2 2 2 2 2 2 2 2 2 2 2 2 2 2 2 2 2 2 2 2 2 2\n",
      " 2 2 2 2 2 2 2 2]\n"
     ]
    }
   ],
   "source": [
    "# assigning the labels\n",
    "labels[labels=='Pikachu']=0\n",
    "labels[labels=='Charmander']=2\n",
    "labels[labels=='Bulbasaur']=1\n",
    "print(labels)"
   ]
  },
  {
   "cell_type": "code",
   "execution_count": 6,
   "metadata": {},
   "outputs": [],
   "source": [
    "# now getting images\n",
    "images_data = []\n",
    "for imgId in img_id:\n",
    "    image = cv2.imread(\"C:/Users/hp/Pokemons_On_Goa_Trip_Challenge/PokemonsOnGoaTrip_Dataset/Images/\"+imgId)\n",
    "    image = cv2.cvtColor(image,cv2.COLOR_BGR2RGB)\n",
    "    image = cv2.resize(image,(50,50))\n",
    "    images_data.append(image)\n"
   ]
  },
  {
   "cell_type": "code",
   "execution_count": 7,
   "metadata": {},
   "outputs": [
    {
     "name": "stdout",
     "output_type": "stream",
     "text": [
      "(304, 50, 50, 3) (304,)\n"
     ]
    }
   ],
   "source": [
    "# Convert images_data array into numpy array\n",
    "images_data=np.array(images_data,dtype='float32')/255.0\n",
    "#print(images_data)\n",
    "print(images_data.shape,labels.shape)\n"
   ]
  },
  {
   "cell_type": "code",
   "execution_count": 8,
   "metadata": {},
   "outputs": [],
   "source": [
    "# Zip image data and the labels together to shuffle them \n",
    "import random\n",
    "combined = list(zip(images_data,labels))\n",
    "random.shuffle(combined)\n",
    "\n",
    "# unzip\n",
    "images_data[:],labels[:] = zip(*combined)"
   ]
  },
  {
   "cell_type": "markdown",
   "metadata": {},
   "source": [
    "### Visualize the data ie let's check whether we have correctly oaded the images or not"
   ]
  },
  {
   "cell_type": "code",
   "execution_count": 9,
   "metadata": {},
   "outputs": [
    {
     "data": {
      "image/png": "[encoded data removed]",
      "text/plain": [
       "<Figure size 432x288 with 1 Axes>"
      ]
     },
     "metadata": {
      "needs_background": "light"
     },
     "output_type": "display_data"
    },
    {
     "data": {
      "image/png": "[encoded data removed]",
      "text/plain": [
       "<Figure size 432x288 with 1 Axes>"
      ]
     },
     "metadata": {
      "needs_background": "light"
     },
     "output_type": "display_data"
    },
    {
     "data": {
      "image/png": "[encoded data removed]",
      "text/plain": [
       "<Figure size 432x288 with 1 Axes>"
      ]
     },
     "metadata": {
      "needs_background": "light"
     },
     "output_type": "display_data"
    },
    {
     "data": {
      "image/png": "[encoded data removed]",
      "text/plain": [
       "<Figure size 432x288 with 1 Axes>"
      ]
     },
     "metadata": {
      "needs_background": "light"
     },
     "output_type": "display_data"
    },
    {
     "data": {
      "image/png": "[encoded data removed]",
      "text/plain": [
       "<Figure size 432x288 with 1 Axes>"
      ]
     },
     "metadata": {
      "needs_background": "light"
     },
     "output_type": "display_data"
    },
    {
     "data": {
      "image/png": "[encoded data removed]",
      "text/plain": [
       "<Figure size 432x288 with 1 Axes>"
      ]
     },
     "metadata": {
      "needs_background": "light"
     },
     "output_type": "display_data"
    },
    {
     "data": {
      "image/png": "[encoded data removed]",
      "text/plain": [
       "<Figure size 432x288 with 1 Axes>"
      ]
     },
     "metadata": {
      "needs_background": "light"
     },
     "output_type": "display_data"
    },
    {
     "data": {
      "image/png": "[encoded data removed]",
      "text/plain": [
       "<Figure size 432x288 with 1 Axes>"
      ]
     },
     "metadata": {
      "needs_background": "light"
     },
     "output_type": "display_data"
    },
    {
     "data": {
      "image/png": "[encoded data removed]",
      "text/plain": [
       "<Figure size 432x288 with 1 Axes>"
      ]
     },
     "metadata": {
      "needs_background": "light"
     },
     "output_type": "display_data"
    },
    {
     "data": {
      "image/png": "[encoded data removed]",
      "text/plain": [
       "<Figure size 432x288 with 1 Axes>"
      ]
     },
     "metadata": {
      "needs_background": "light"
     },
     "output_type": "display_data"
    }
   ],
   "source": [
    "def display(img):\n",
    "    plt.imshow(img)\n",
    "    plt.axis(False)\n",
    "    plt.show()\n",
    "    \n",
    "for i in range(10):\n",
    "    display(images_data[i])"
   ]
  },
  {
   "cell_type": "markdown",
   "metadata": {},
   "source": [
    "## Class SVM"
   ]
  },
  {
   "cell_type": "code",
   "execution_count": 10,
   "metadata": {},
   "outputs": [],
   "source": [
    "class SVM:\n",
    "    def __init__(self,C=1.0):\n",
    "        self.C=C\n",
    "        self.W=0\n",
    "        self.b=0\n",
    "    def hingeLoss(self,W,b,X,Y):\n",
    "        loss=0.0\n",
    "        loss+=0.5*np.dot(W,W.T)\n",
    "        \n",
    "        m=X.shape[0] ## m->total number of examples\n",
    "        \n",
    "        for i in range(m):\n",
    "            ti=Y[i]*(np.dot(W,X[i])+b)\n",
    "            loss += self.C*max(0,(1-ti))\n",
    "        return loss[0][0]\n",
    "    def fit(self,X,Y,batch_size=100,learning_rate=0.001,maxItr=300):\n",
    "        no_of_features = X.shape[1]\n",
    "        no_of_samples = X.shape[0]\n",
    "        \n",
    "        n=learning_rate\n",
    "        c=self.C\n",
    "        \n",
    "        #initialize the model parameters\n",
    "        W = np.zeros((1,no_of_features))\n",
    "        bias=0\n",
    "        #print(self.hingeLoss(W,bias,X,Y))\n",
    "        \n",
    "        # Training starts from here\n",
    "        # implementing weight update rule and the bias update rule\n",
    "        losses=[]\n",
    "        \n",
    "        for i in range(maxItr):\n",
    "            #Training loop\n",
    "            l=self.hingeLoss(W,bias,X,Y)\n",
    "            losses.append(l)\n",
    "            \n",
    "            ids = np.arange(no_of_samples) # generating id for each of the sample\n",
    "            np.random.shuffle(ids)\n",
    "            \n",
    "            # Batch Gradient Descent with random shuffling\n",
    "            for batch_start in range(0,no_of_samples,batch_size):\n",
    "                # assuming 0 gradient for the batch initially\n",
    "                gradw=0\n",
    "                gradb=0\n",
    "                \n",
    "                #iterating over all the examples in the mini batch\n",
    "                for j in range(batch_start,batch_start+batch_size):\n",
    "                    if j<no_of_samples:\n",
    "                        i=ids[j]\n",
    "                        ti=Y[i]*(np.dot(W,X[i].T)+bias)\n",
    "                        \n",
    "                        if ti>1:\n",
    "                            gradw+=0\n",
    "                            gradb+=0\n",
    "                        else:\n",
    "                            gradw+=c*Y[i]*X[i]\n",
    "                            gradb+=c*Y[i]\n",
    "                # gradient fo rthe batch is ready update weight and the bias\n",
    "                W = W - n*W + n*gradw\n",
    "                bias = bias + n*gradb\n",
    "        self.W = W\n",
    "        self.b = bias\n",
    "        return W,bias,losses"
   ]
  },
  {
   "cell_type": "code",
   "execution_count": 11,
   "metadata": {},
   "outputs": [],
   "source": [
    "#images_data.shape"
   ]
  },
  {
   "cell_type": "code",
   "execution_count": 12,
   "metadata": {},
   "outputs": [
    {
     "name": "stdout",
     "output_type": "stream",
     "text": [
      "(304, 7500)\n",
      "(304,)\n"
     ]
    }
   ],
   "source": [
    "samples = images_data.shape[0]\n",
    "images_data = images_data.reshape(samples,-1) # reshaping images_data\n",
    "print(images_data.shape)\n",
    "print(labels.shape)"
   ]
  },
  {
   "cell_type": "code",
   "execution_count": 13,
   "metadata": {},
   "outputs": [
    {
     "name": "stdout",
     "output_type": "stream",
     "text": [
      "3\n"
     ]
    }
   ],
   "source": [
    "no_of_classes = len(np.unique(labels))\n",
    "print(no_of_classes)"
   ]
  },
  {
   "cell_type": "code",
   "execution_count": 14,
   "metadata": {},
   "outputs": [],
   "source": [
    "def classWiseData(x,y):\n",
    "    data = {} # this dictionary will stor the key value pairs,where keys will be among one of the three labels and values will \n",
    "    for i in range (labels.shape[0]):\n",
    "        data[i]=[]\n",
    "    for i in range(x.shape[0]):\n",
    "        data[y[i]].append(x[i])\n",
    "    for k in data.keys():\n",
    "        data[k] = np.array(data[k]) # converting the array corresponding to every key into a numpy arra\n",
    "    return data"
   ]
  },
  {
   "cell_type": "code",
   "execution_count": 15,
   "metadata": {},
   "outputs": [],
   "source": [
    "data = classWiseData(images_data,labels)"
   ]
  },
  {
   "cell_type": "code",
   "execution_count": 16,
   "metadata": {},
   "outputs": [],
   "source": [
    "#print(data[0].shape[0])\n",
    "#print(data[0].shape)\n",
    "#print(data[1].shape[0])\n",
    "#print(data[1].shape)\n",
    "# and so on"
   ]
  },
  {
   "cell_type": "code",
   "execution_count": 17,
   "metadata": {},
   "outputs": [],
   "source": [
    "def getDataPairForSVM(d1,d2):\n",
    "    \"\"\"Combined the Data of two classes d1 and d2 into a single matrix\"\"\"\n",
    "    \n",
    "    l1,l2 = d1.shape[0],d2.shape[0]\n",
    "    \n",
    "    total_samples = l1+l2 #total number of smaples present int the two classes.They define the total number of rows required\n",
    "    features = d1.shape[1] # number of features of each sample.They define the total number of columns required\n",
    "    \n",
    "    data_pair = np.zeros((total_samples,features))\n",
    "    data_labels = np.zeros((total_samples,))\n",
    "    \n",
    "    data_pair[:l1 , :] = d1 # copying the data of the class d1 in the first part of the data_pair matrix\n",
    "    data_pair[l1: , :] = d2 # copying the data of the class d2 in the second part of the data_pair matrix\n",
    "    \n",
    "    data_labels[:l1] = -1 # keeping the first l1 laabels of data_labels as class '-1'\n",
    "    data_labels[l1:] = +1 # keeping the second part of data labels as class '+1'\n",
    "    \n",
    "    return data_pair,data_labels # data_pair effers to the X data ie input data , Y data reffers to the output data or output classes"
   ]
  },
  {
   "cell_type": "markdown",
   "metadata": {},
   "source": [
    "### Training NC2 SVM's Part!"
   ]
  },
  {
   "cell_type": "code",
   "execution_count": 18,
   "metadata": {},
   "outputs": [
    {
     "data": {
      "text/plain": [
       "'\\nxp,yp = getDataPairForSVM(data[1],data[2])\\nw,b,loss = mySVM.fit(xp,yp,learning_rate = 0.00001,maxItr=1000)\\n#print(loss)\\nplt.plot(loss)\\n\\n'"
      ]
     },
     "execution_count": 18,
     "metadata": {},
     "output_type": "execute_result"
    }
   ],
   "source": [
    "# creating an object of the class SVM\n",
    "mySVM = SVM()\n",
    "\n",
    "\n",
    "# For debugging the code we are checking only for the two data values\n",
    "\"\"\"\n",
    "xp,yp = getDataPairForSVM(data[1],data[2])\n",
    "w,b,loss = mySVM.fit(xp,yp,learning_rate = 0.00001,maxItr=1000)\n",
    "#print(loss)\n",
    "plt.plot(loss)\n",
    "\n",
    "\"\"\"\n",
    "\n"
   ]
  },
  {
   "cell_type": "code",
   "execution_count": 19,
   "metadata": {},
   "outputs": [],
   "source": [
    "def trainSVMs(x,y):\n",
    "    svm_classifiers = {}\n",
    "    for i in range(no_of_classes): # iterate over all classes\n",
    "        svm_classifiers[i]={}\n",
    "        for j in range(i+1,no_of_classes): # since we are alredy in ith class so leaving ith class iterate over all remaining classes\n",
    "            xpair,ypair = getDataPairForSVM(data[i],data[j])\n",
    "            wts,b,loss = mySVM.fit(xpair,ypair,learning_rate = 0.00001,maxItr=1000)\n",
    "            svm_classifiers[i][j] = (wts,b) # i and j are the two classes for which the hypothetical values are found and thereby stores in the 2-d dictionary svm_classifiers\n",
    "            \n",
    "            plt.plot(loss)\n",
    "            plt.show()\n",
    "            \n",
    "    return svm_classifiers\n",
    "    "
   ]
  },
  {
   "cell_type": "code",
   "execution_count": 20,
   "metadata": {},
   "outputs": [
    {
     "data": {
      "image/png": "[encoded data removed]",
      "text/plain": [
       "<Figure size 432x288 with 1 Axes>"
      ]
     },
     "metadata": {
      "needs_background": "light"
     },
     "output_type": "display_data"
    },
    {
     "data": {
      "image/png": "[encoded data removed]",
      "text/plain": [
       "<Figure size 432x288 with 1 Axes>"
      ]
     },
     "metadata": {
      "needs_background": "light"
     },
     "output_type": "display_data"
    },
    {
     "data": {
      "image/png": "[encoded data removed]",
      "text/plain": [
       "<Figure size 432x288 with 1 Axes>"
      ]
     },
     "metadata": {
      "needs_background": "light"
     },
     "output_type": "display_data"
    }
   ],
   "source": [
    "svm_classifiers = trainSVMs(images_data,labels)"
   ]
  },
  {
   "cell_type": "code",
   "execution_count": 21,
   "metadata": {},
   "outputs": [
    {
     "name": "stdout",
     "output_type": "stream",
     "text": [
      "[[ 7.19591592e-05 -2.12507539e-03  7.03683393e-04 ... -3.89063685e-03\n",
      "  -2.58237920e-03 -2.32487607e-03]]\n",
      "0.010230000000000046\n"
     ]
    }
   ],
   "source": [
    "pikachu_bulbasaur = svm_classifiers[0][1] # where 0 reffers to the 0th class ie pikcahu class and 1 reffers to the 1st class ie bulbasaur\n",
    "print(pikachu_bulbasaur[0]) #weights learnt by the classifier model for the two classes ie pikachu class having label 0 and the bulbasaur class having the label 1\n",
    "print(pikachu_bulbasaur[1]) #value of constant bias term learnt by the classifier model for the two classes ie pikachu class having label as 0 and the bulbasaur class having the label as 1"
   ]
  },
  {
   "cell_type": "code",
   "execution_count": 22,
   "metadata": {},
   "outputs": [],
   "source": [
    "# binary Predict() is going to be the actual prediction of SVM because it can give only two classes ie -1 and 1\n",
    "def binaryPredict(x,w,b):\n",
    "    z = np.dot(x,w.T) + b\n",
    "    if z>=0:\n",
    "        return 1\n",
    "    else:\n",
    "        return -1"
   ]
  },
  {
   "cell_type": "code",
   "execution_count": 23,
   "metadata": {},
   "outputs": [],
   "source": [
    "def predict(x): # x reffers to test data\n",
    "    count = np.zeros((no_of_classes,))\n",
    "    \n",
    "    for i in range(no_of_classes):\n",
    "        for j in range(i+1,no_of_classes):\n",
    "            w,b = svm_classifiers[i][j]\n",
    "            \n",
    "            # take the majority prediction\n",
    "            z = binaryPredict(x,w,b) # z is the output ie the prediction , ie the value of z would be either 1 or -1 \n",
    "            # remember  we made a pair of class[i] and class[j] and kept set class[i]=-1 and class[j]=1\n",
    "            if(z==1):\n",
    "                count[j] += 1 # j here reffers to the second class of the pair ie it can be 0,1,or 2 which also corresponds to the indices of numpy array count\n",
    "            else:\n",
    "                count[i] += 1 # # j here reffers to the second class of the pair ie it can be 0,1,or 2 which also corresponds to the indices of numpy array count\n",
    "                \n",
    "    final_prediction = np.argmax(count)\n",
    "    return final_prediction\n",
    "    "
   ]
  },
  {
   "cell_type": "code",
   "execution_count": 24,
   "metadata": {},
   "outputs": [
    {
     "name": "stdout",
     "output_type": "stream",
     "text": [
      "2\n",
      "2\n"
     ]
    }
   ],
   "source": [
    "print(predict(images_data[0]))\n",
    "print(labels[0])"
   ]
  },
  {
   "cell_type": "code",
   "execution_count": 25,
   "metadata": {},
   "outputs": [],
   "source": [
    "def accuracy(x,y):\n",
    "    count = 0\n",
    "    for i in range(x.shape[0]):\n",
    "        prediction = predict(x[i])\n",
    "        if(prediction == y[i]):\n",
    "            count += 1\n",
    "    return count/x.shape[0]"
   ]
  },
  {
   "cell_type": "code",
   "execution_count": 26,
   "metadata": {},
   "outputs": [
    {
     "data": {
      "text/plain": [
       "0.6907894736842105"
      ]
     },
     "execution_count": 26,
     "metadata": {},
     "output_type": "execute_result"
    }
   ],
   "source": [
    "accuracy(images_data,labels)"
   ]
  },
  {
   "cell_type": "markdown",
   "metadata": {},
   "source": [
    "### Now predicting on test data"
   ]
  },
  {
   "cell_type": "code",
   "execution_count": 27,
   "metadata": {},
   "outputs": [
    {
     "name": "stdout",
     "output_type": "stream",
     "text": [
      "['1106.jpg' '2236.jpg' '1131.jpg' '2221.jpg' '2011.jpg' '2030.jpg'\n",
      " '2035.jpg' '1110.jpg' '1104.jpg' '2217.jpg' '1111.jpg' '1100.jpg'\n",
      " '1112.jpg' '1138.jpg' '2238.jpg' '2009.jpg' '2225.jpg' '2240.jpg'\n",
      " '2020.jpg' '2209.jpg' '2029.jpg' '1114.jpg' '2201.jpg' '1118.jpg'\n",
      " '2025.jpg' '2202.jpg' '1117.jpg' '1119.jpg' '2000.jpg' '2007.jpg'\n",
      " '2039.jpg' '2017.jpg' '2215.jpg' '1120.jpg' '2006.jpg' '1116.jpg'\n",
      " '1128.jpg' '1125.jpg' '2203.jpg' '1133.jpg' '1137.jpg' '2220.jpg'\n",
      " '2012.jpg' '2224.jpg' '2206.jpg' '1122.jpg' '2223.jpg' '1102.jpg'\n",
      " '2234.jpg' '2216.jpg' '2016.jpg' '2227.jpg' '2013.jpg' '1113.jpg'\n",
      " '2204.jpg' '1101.jpg' '2208.jpg' '2024.jpg' '2031.jpg' '2222.jpg'\n",
      " '2211.jpg' '2033.jpg' '2213.jpg' '2231.jpg' '2001.jpg' '2040.jpg'\n",
      " '1127.jpg' '2023.jpg' '2015.jpg' '1121.jpg' '2232.jpg' '1139.jpg'\n",
      " '1103.jpg' '2018.jpg' '2233.jpg' '2212.jpg' '2210.jpg' '2228.jpg'\n",
      " '2026.jpg' '1132.jpg' '2003.jpg' '1129.jpg' '2214.jpg' '1123.jpg'\n",
      " '2004.jpg' '1136.jpg' '1140.jpg' '2226.jpg' '2230.jpg' '1135.jpg'\n",
      " '1105.jpg' '2237.jpg' '1109.jpg' '2022.jpg' '2005.jpg' '2218.jpg'\n",
      " '2036.jpg' '1115.jpg' '2032.jpg' '2200.jpg' '1134.jpg' '1130.jpg'\n",
      " '1107.jpg' '2034.jpg' '2205.jpg' '2008.jpg' '2027.jpg' '2028.jpg'\n",
      " '2239.jpg' '1108.jpg' '2010.jpg' '2229.jpg' '2219.jpg' '2019.jpg'\n",
      " '2207.jpg' '2002.jpg' '2037.jpg' '2038.jpg' '1124.jpg' '2014.jpg'\n",
      " '2235.jpg' '1126.jpg' '2021.jpg']\n",
      "(123,)\n"
     ]
    }
   ],
   "source": [
    "print(test_id)\n",
    "print(test_id.shape)"
   ]
  },
  {
   "cell_type": "code",
   "execution_count": 28,
   "metadata": {},
   "outputs": [],
   "source": [
    "# Now getting images"
   ]
  },
  {
   "cell_type": "code",
   "execution_count": 29,
   "metadata": {},
   "outputs": [],
   "source": [
    "test_image_data = []\n",
    "for testId in test_id:\n",
    "    image = cv2.imread('C:/Users/hp/Pokemons_On_Goa_Trip_Challenge/PokemonsOnGoaTrip_Test/Images/'+testId)\n",
    "    image = cv2.cvtColor(image,cv2.COLOR_BGR2RGB)\n",
    "    image = cv2.resize(image,(50,50))\n",
    "    test_image_data.append(image)"
   ]
  },
  {
   "cell_type": "code",
   "execution_count": 30,
   "metadata": {},
   "outputs": [
    {
     "name": "stdout",
     "output_type": "stream",
     "text": [
      "(123, 50, 50, 3)\n"
     ]
    }
   ],
   "source": [
    "#print(test_image_data)\n",
    "# Convert test_image_data  into numpy array\n",
    "test_image_data =np.array(test_image_data,dtype='float32')/255.0\n",
    "print(test_image_data.shape)"
   ]
  },
  {
   "cell_type": "code",
   "execution_count": 31,
   "metadata": {},
   "outputs": [
    {
     "name": "stdout",
     "output_type": "stream",
     "text": [
      "(123, 7500)\n"
     ]
    }
   ],
   "source": [
    "# reshaping test data\n",
    "test_samples= test_image_data.shape[0]\n",
    "test_image_data = test_image_data.reshape(test_samples,-1)\n",
    "print(test_image_data.shape)"
   ]
  },
  {
   "cell_type": "code",
   "execution_count": 32,
   "metadata": {},
   "outputs": [],
   "source": [
    "output=[]\n",
    "for x in range(test_image_data.shape[0]):\n",
    "    op = predict(test_image_data[x])\n",
    "    if op==0:\n",
    "        output.append('Pikachu')\n",
    "    elif op==1:\n",
    "        output.append('Bulbasaur')\n",
    "    else:\n",
    "        output.append('Charmender')\n",
    "    \n",
    "    \n",
    "#output[output==0]='Pikachu'\n",
    "#output[output==2]='Charmander'\n",
    "#output[output==1]='Bulbasaur'"
   ]
  },
  {
   "cell_type": "code",
   "execution_count": 33,
   "metadata": {},
   "outputs": [
    {
     "name": "stdout",
     "output_type": "stream",
     "text": [
      "['Bulbasaur', 'Charmender', 'Bulbasaur', 'Charmender', 'Charmender', 'Charmender', 'Pikachu', 'Bulbasaur', 'Bulbasaur', 'Charmender', 'Bulbasaur', 'Bulbasaur', 'Bulbasaur', 'Bulbasaur', 'Charmender', 'Bulbasaur', 'Charmender', 'Charmender', 'Bulbasaur', 'Charmender', 'Charmender', 'Bulbasaur', 'Charmender', 'Bulbasaur', 'Charmender', 'Charmender', 'Bulbasaur', 'Bulbasaur', 'Pikachu', 'Pikachu', 'Pikachu', 'Pikachu', 'Charmender', 'Bulbasaur', 'Charmender', 'Bulbasaur', 'Pikachu', 'Bulbasaur', 'Charmender', 'Bulbasaur', 'Bulbasaur', 'Charmender', 'Charmender', 'Bulbasaur', 'Charmender', 'Bulbasaur', 'Charmender', 'Bulbasaur', 'Charmender', 'Charmender', 'Pikachu', 'Charmender', 'Charmender', 'Bulbasaur', 'Charmender', 'Pikachu', 'Bulbasaur', 'Pikachu', 'Charmender', 'Charmender', 'Charmender', 'Pikachu', 'Charmender', 'Bulbasaur', 'Pikachu', 'Pikachu', 'Bulbasaur', 'Pikachu', 'Pikachu', 'Bulbasaur', 'Pikachu', 'Bulbasaur', 'Bulbasaur', 'Pikachu', 'Charmender', 'Charmender', 'Charmender', 'Charmender', 'Charmender', 'Bulbasaur', 'Pikachu', 'Bulbasaur', 'Charmender', 'Bulbasaur', 'Charmender', 'Bulbasaur', 'Bulbasaur', 'Charmender', 'Charmender', 'Bulbasaur', 'Bulbasaur', 'Bulbasaur', 'Bulbasaur', 'Charmender', 'Charmender', 'Charmender', 'Pikachu', 'Bulbasaur', 'Pikachu', 'Charmender', 'Bulbasaur', 'Bulbasaur', 'Bulbasaur', 'Pikachu', 'Charmender', 'Pikachu', 'Pikachu', 'Charmender', 'Charmender', 'Bulbasaur', 'Charmender', 'Charmender', 'Charmender', 'Charmender', 'Charmender', 'Pikachu', 'Pikachu', 'Charmender', 'Bulbasaur', 'Pikachu', 'Charmender', 'Bulbasaur', 'Charmender']\n"
     ]
    }
   ],
   "source": [
    "print(output)"
   ]
  },
  {
   "cell_type": "markdown",
   "metadata": {},
   "source": [
    "#### Now preparing the Output.csv file "
   ]
  },
  {
   "cell_type": "code",
   "execution_count": null,
   "metadata": {},
   "outputs": [],
   "source": [
    "with open('C:/Users/hp/Pokemons_On_Goa_Trip_Challenge/PokemonsOnGoaTrip_Test/output1.csv',newline='') as f:\n",
    "    r = csv.reader(f)\n",
    "    data = [line for line in r]\n",
    "with open('C:/Users/hp/Pokemons_On_Goa_Trip_Challenge/PokemonsOnGoaTrip_Test/output1.csv','w',newline='') as f:\n",
    "    w=csv.writer(f)\n",
    "    w.writerow(['ImageId','NameOfPokemon'])\n",
    "    w.writerows(data)"
   ]
  },
  {
   "cell_type": "code",
   "execution_count": 40,
   "metadata": {},
   "outputs": [],
   "source": [
    "with open('C:/Users/hp/Pokemons_On_Goa_Trip_Challenge/PokemonsOnGoaTrip_Test/test.csv','r') as read_obj,open('D:/output1','w',newline='') as write_obj:\n",
    "    # Create a csv reader object from the test file object\n",
    "    csv_reader = reader(read_obj)\n",
    "    # Create a csv writer object from the output file object\n",
    "    csv_writer = writer(write_obj)\n",
    "    \n",
    "    # Read each row in the test.csv file as a list\n",
    "    i=-1 \n",
    "    for row in csv_reader:\n",
    "        if i==-1:\n",
    "            row.append('NameOfPokemon')\n",
    "            i=i+1\n",
    "        else:\n",
    "            row.append(output[i])\n",
    "            \n",
    "            # add the updates row list to the output file\n",
    "            csv_writer.writerow(row)\n",
    "            i=i+1\n",
    "    "
   ]
  },
  {
   "cell_type": "code",
   "execution_count": 41,
   "metadata": {},
   "outputs": [],
   "source": [
    "with open('D:/output1',newline='') as f:\n",
    "    r = csv.reader(f)\n",
    "    data = [line for line in r]\n",
    "with open('D:/output1','w',newline='') as f:\n",
    "    w=csv.writer(f)\n",
    "    w.writerow(['ImageId','NameOfPokemon'])\n",
    "    w.writerows(data)"
   ]
  },
  {
   "cell_type": "code",
   "execution_count": null,
   "metadata": {},
   "outputs": [],
   "source": []
  },
  {
   "cell_type": "code",
   "execution_count": null,
   "metadata": {},
   "outputs": [],
   "source": []
  },
  {
   "cell_type": "markdown",
   "metadata": {},
   "source": [
    "### Using inbuilt SVM"
   ]
  },
  {
   "cell_type": "code",
   "execution_count": null,
   "metadata": {},
   "outputs": [],
   "source": [
    "from sklearn import svm"
   ]
  },
  {
   "cell_type": "code",
   "execution_count": null,
   "metadata": {},
   "outputs": [],
   "source": [
    "def custom_kernel(x1,x2):\n",
    "    return np.square(np.dot(x1,x2.T))\n",
    "svm_classifier = svm.SVC(kernel = 'linear',C=1.0)"
   ]
  },
  {
   "cell_type": "code",
   "execution_count": null,
   "metadata": {},
   "outputs": [],
   "source": [
    "svm_classifier.fit(images_data,labels)\n",
    "svm_classifier.score(images_data,labels)"
   ]
  },
  {
   "cell_type": "code",
   "execution_count": null,
   "metadata": {},
   "outputs": [],
   "source": []
  },
  {
   "cell_type": "code",
   "execution_count": null,
   "metadata": {},
   "outputs": [],
   "source": []
  },
  {
   "cell_type": "code",
   "execution_count": null,
   "metadata": {},
   "outputs": [],
   "source": []
  }
 ],
 "metadata": {
  "kernelspec": {
   "display_name": "Python 3",
   "language": "python",
   "name": "python3"
  },
  "language_info": {
   "codemirror_mode": {
    "name": "ipython",
    "version": 3
   },
   "file_extension": ".py",
   "mimetype": "text/x-python",
   "name": "python",
   "nbconvert_exporter": "python",
   "pygments_lexer": "ipython3",
   "version": "3.7.6"
  }
 },
 "nbformat": 4,
 "nbformat_minor": 2
}
